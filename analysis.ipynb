{
 "cells": [
  {
   "cell_type": "code",
   "execution_count": 1,
   "metadata": {
    "collapsed": true
   },
   "outputs": [],
   "source": [
    "from sklearn.gaussian_process import GaussianProcessRegressor\n",
    "from sklearn.gaussian_process.kernels import DotProduct, WhiteKernel, RBF, Exponentiation, ConstantKernel\n",
    "from sklearn.model_selection import train_test_split\n",
    "import matplotlib.pyplot as plt\n",
    "\n",
    "from common import detpep10exp, load_detpep10exp_dataset, plot_init"
   ]
  },
  {
   "cell_type": "markdown",
   "source": [
    "## Analyze different kernels"
   ],
   "metadata": {
    "collapsed": false,
    "pycharm": {
     "name": "#%% md\n"
    }
   }
  },
  {
   "cell_type": "code",
   "execution_count": 2,
   "outputs": [
    {
     "name": "stdout",
     "output_type": "stream",
     "text": [
      "(8000, 3)\n",
      "(8000,)\n"
     ]
    }
   ],
   "source": [
    "# Plot setup\n",
    "plot_init()\n",
    "\n",
    "# Load dataset\n",
    "X, y = load_detpep10exp_dataset(n_samples=20, sample_range=(0.01, 1))\n",
    "print(X.shape)\n",
    "print(y.shape)\n",
    "\n",
    "# Split into train and test set\n",
    "X_train, X_test, y_train, y_test = train_test_split(\n",
    "    X,\n",
    "    y,\n",
    "    test_size=0.3,\n",
    "    random_state=43\n",
    ")\n",
    "\n",
    "# Dict to save results\n",
    "scores = {}"
   ],
   "metadata": {
    "collapsed": false,
    "pycharm": {
     "name": "#%%\n"
    }
   }
  },
  {
   "cell_type": "markdown",
   "source": [
    "### Constant kernel"
   ],
   "metadata": {
    "collapsed": false,
    "pycharm": {
     "name": "#%% md\n"
    }
   }
  },
  {
   "cell_type": "code",
   "execution_count": 3,
   "outputs": [
    {
     "name": "stdout",
     "output_type": "stream",
     "text": [
      "R2 for constant value 0.2: -0.002566715658385066\n",
      "R2 for constant value 0.5: -0.0025972467111756714\n",
      "R2 for constant value 1.0: -0.0025594321911566187\n",
      "R2 for constant value 1.5: -0.0025903507181339602\n",
      "R2 for constant value 2.0: -0.0027017866476179986\n"
     ]
    }
   ],
   "source": [
    "constant_scores = []\n",
    "for cv in [0.2, 0.5, 1., 1.5, 2.0]:\n",
    "    # Initialize kernel\n",
    "    kernel = ConstantKernel(cv, constant_value_bounds='fixed')\n",
    "    # Train\n",
    "    gpr = GaussianProcessRegressor(kernel=kernel)\n",
    "    gpr.fit(X_train, y_train)\n",
    "    # Evaluate\n",
    "    score = gpr.score(X_test, y_test)\n",
    "    print('R2 for constant value {}: {}'.format(cv, score))\n",
    "    constant_scores.append(score)"
   ],
   "metadata": {
    "collapsed": false,
    "pycharm": {
     "name": "#%%\n"
    }
   }
  },
  {
   "cell_type": "markdown",
   "source": [
    "### Radial basis function (RBF) kernel"
   ],
   "metadata": {
    "collapsed": false,
    "pycharm": {
     "name": "#%% md\n"
    }
   }
  },
  {
   "cell_type": "code",
   "execution_count": 4,
   "outputs": [
    {
     "name": "stdout",
     "output_type": "stream",
     "text": [
      "R2 for length scale 0.2: 0.999999999668633\n",
      "R2 for length scale 0.5: 0.9999999532382238\n",
      "R2 for length scale 1.0: 0.9999976205905474\n",
      "R2 for length scale 1.5: 0.9999811435831144\n",
      "R2 for length scale 2.5: 0.9999393208773327\n"
     ]
    }
   ],
   "source": [
    "rbf_scores = []\n",
    "for ls in [0.2, 0.5, 1., 1.5, 2.5]:\n",
    "    # Initialize kernel\n",
    "    kernel = RBF(length_scale=ls, length_scale_bounds='fixed')\n",
    "    # Train\n",
    "    gpr = GaussianProcessRegressor(kernel=kernel)\n",
    "    gpr.fit(X_train, y_train)\n",
    "    # Evaluate\n",
    "    score = gpr.score(X_test, y_test)\n",
    "    print('R2 for length scale {}: {}'.format(ls, score))\n",
    "    rbf_scores.append(score)"
   ],
   "metadata": {
    "collapsed": false,
    "pycharm": {
     "name": "#%%\n"
    }
   }
  },
  {
   "cell_type": "markdown",
   "source": [
    "### White kernel"
   ],
   "metadata": {
    "collapsed": false,
    "pycharm": {
     "name": "#%% md\n"
    }
   }
  },
  {
   "cell_type": "code",
   "execution_count": 5,
   "outputs": [
    {
     "name": "stdout",
     "output_type": "stream",
     "text": [
      "R2 for noise level 0.2: -1.6344611652234473\n",
      "R2 for noise level 0.5: -1.6344611652234473\n",
      "R2 for noise level 1.0: -1.6344611652234473\n",
      "R2 for noise level 1.5: -1.6344611652234473\n",
      "R2 for noise level 2.5: -1.6344611652234473\n"
     ]
    }
   ],
   "source": [
    "white_scores = []\n",
    "for nl in [0.2, 0.5, 1., 1.5, 2.5]:\n",
    "    # Initialize kernel\n",
    "    kernel = WhiteKernel(noise_level=nl, noise_level_bounds='fixed')\n",
    "    # Train\n",
    "    gpr = GaussianProcessRegressor(kernel=kernel)\n",
    "    gpr.fit(X_train, y_train)\n",
    "    # Evaluate\n",
    "    score = gpr.score(X_test, y_test)\n",
    "    print('R2 for noise level {}: {}'.format(nl, score))\n",
    "    white_scores.append(score)"
   ],
   "metadata": {
    "collapsed": false,
    "pycharm": {
     "name": "#%%\n"
    }
   }
  },
  {
   "cell_type": "markdown",
   "source": [
    "### Dot product"
   ],
   "metadata": {
    "collapsed": false,
    "pycharm": {
     "name": "#%% md\n"
    }
   }
  },
  {
   "cell_type": "code",
   "execution_count": 6,
   "outputs": [
    {
     "name": "stdout",
     "output_type": "stream",
     "text": [
      "R2 for sigma 0.2: 0.734474674675607\n",
      "R2 for sigma 0.5: 0.7344432631151867\n",
      "R2 for sigma 1.0: 0.7344460505433748\n",
      "R2 for sigma 1.5: 0.7345305902383034\n",
      "R2 for sigma 2.5: 0.734581843890348\n"
     ]
    }
   ],
   "source": [
    "dot_scores = []\n",
    "for sigma in [0.2, 0.5, 1., 1.5, 2.5]:\n",
    "    # Initialize kernel\n",
    "    kernel = DotProduct(sigma_0=sigma, sigma_0_bounds='fixed')\n",
    "    # Train\n",
    "    gpr = GaussianProcessRegressor(kernel=kernel)\n",
    "    gpr.fit(X_train, y_train)\n",
    "    # Evaluate\n",
    "    score = gpr.score(X_test, y_test)\n",
    "    print('R2 for sigma {}: {}'.format(sigma, score))\n",
    "    dot_scores.append(score)"
   ],
   "metadata": {
    "collapsed": false,
    "pycharm": {
     "name": "#%%\n"
    }
   }
  },
  {
   "cell_type": "code",
   "execution_count": 7,
   "outputs": [
    {
     "data": {
      "text/plain": "<Figure size 432x288 with 1 Axes>",
      "image/png": "[encoded data removed]"
     },
     "metadata": {
      "needs_background": "light"
     },
     "output_type": "display_data"
    }
   ],
   "source": [
    "fig, ax = plt.subplots()\n",
    "ax.bar(['constant', 'rbf', 'white', 'dot'], [max(constant_scores), max(rbf_scores), max(white_scores), max(dot_scores)])\n",
    "plt.show()"
   ],
   "metadata": {
    "collapsed": false,
    "pycharm": {
     "name": "#%%\n"
    }
   }
  },
  {
   "cell_type": "code",
   "execution_count": null,
   "outputs": [],
   "source": [],
   "metadata": {
    "collapsed": false,
    "pycharm": {
     "name": "#%%\n"
    }
   }
  }
 ],
 "metadata": {
  "kernelspec": {
   "display_name": "Python 3",
   "language": "python",
   "name": "python3"
  },
  "language_info": {
   "codemirror_mode": {
    "name": "ipython",
    "version": 2
   },
   "file_extension": ".py",
   "mimetype": "text/x-python",
   "name": "python",
   "nbconvert_exporter": "python",
   "pygments_lexer": "ipython2",
   "version": "2.7.6"
  }
 },
 "nbformat": 4,
 "nbformat_minor": 0
}